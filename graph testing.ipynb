{
 "cells": [
  {
   "cell_type": "code",
   "execution_count": 17,
   "metadata": {},
   "outputs": [],
   "source": [
    "import pandas as pd \n",
    "import matplotlib.pyplot as plt\n",
    "import matplotlib.dates as mdates\n",
    "import matplotlib.cbook as cbook \n",
    "import numpy as np\n",
    "import datetime\n",
    "import pandas_datareader.data as web\n",
    "\n",
    "data_source='yahoo'\n",
    "\n",
    "start_date='2017-01-01'\n",
    "end_date='2020-08-24'\n",
    "\n",
    "\n",
    "us_dict={\n",
    "    'Amazon':'AMZN',\n",
    "    'Apple': 'AAPL',\n",
    "    'Berkshire Hathaway':'BRK-B',\n",
    "    'Facebook': 'FB',\n",
    "    'Google':'Googl',\n",
    "    'Home Depot':'HD',\n",
    "    'Intel':'INTC',\n",
    "    'Johnson and Johnson':'JNJ',\n",
    "    'JP Morgan Chase':'JPM',\n",
    "    'Mastercard':\"MA\",\n",
    "    \"Microsoft\":\"MSFT\",\n",
    "    \"Proctor and Gamble\":'PG',\n",
    "    'United Healthcare': 'UNH',\n",
    "    'Visa':'V',\n",
    "    \"Verizon\":'VZ'\n",
    "    }\n",
    "us_companies=sorted(us_dict.items(), key=lambda x: x[1])\n",
    "us_data=web.DataReader(list(us_dict.values()), data_source, start_date, end_date)\n",
    "us_close=us_data[\"Close\"]\n",
    "us_open=us_data[\"Open\"]\n",
    "us_close=np.array(us_close).T\n",
    "us_open=np.array(us_open).T \n",
    "\n",
    "\n",
    "\n",
    "\n",
    "us_rows, us_cols=us_close.shape\n",
    "\n",
    "us_movements=np.zeros([us_rows,900])\n",
    "\n",
    "for i in range(0, us_rows):\n",
    "    us_movements[i,:]=np.subtract(us_close[i,:900], us_open[i,:900])\n",
    "\n",
    "\n",
    "# for i in range(0, len(us_companies)):\n",
    "#     print('Company: {}, Change: {}'.format(us_companies[i][0], sum(us_movements[i][:])))\n",
    "\n",
    "china_dict={\n",
    "    \"Tencent\":\"0700.HK\", \n",
    "    \"HSBC\":\"0005.HK\",\n",
    "    \"CCB\":\"0939.HK\",\n",
    "    \"China Mobile\":\"0941.HK\",\n",
    "    \"ABC\":\"1288.HK\",\n",
    "    \"AIA\":\"1299.HK\",\n",
    "    \"ICBC\":\"1398.HK\",\n",
    "    'PSBC':\"1658.HK\",\n",
    "    \"PING AN\":\"2318.HK\",\n",
    "    \"CHINA LIFE\":\"2628.HK\", \n",
    "    \"Meituan\":\"3690.HK\",\n",
    "    \"CM BANK\":\"3698.HK\",\n",
    "    \"Bank of China\":\"3988.HK\",\n",
    "    \"JD.com\":\"9618.HK\",\n",
    "    \"Alibaba\":\"9988.HK\"\n",
    "}\n",
    "china_companies=sorted(china_dict.items(), key=lambda x: x[1])\n",
    "china_data=web.DataReader(list(china_dict.values()), data_source, start_date, end_date)\n",
    "china_close=np.array(china_data[\"Close\"]).T\n",
    "china_open=np.array(china_data[\"Open\"]).T\n",
    "\n",
    "china_rows, china_cols=china_close.shape\n",
    "\n",
    "china_movements=np.zeros([china_rows,china_cols])\n",
    "\n",
    "for i in range(0, china_rows):\n",
    "    china_movements[i,:]=np.subtract(china_close[i,:], china_open[i,:900])\n",
    "\n",
    "col_mean=np.nanmean(china_movements, axis=0)\n",
    "inds=np.where(np.isnan(china_movements))\n",
    "china_movements[inds]=np.take(col_mean, inds[1])\n",
    "\n",
    "movements=np.concatenate((us_movements, china_movements), axis=0)\n",
    "companies=us_companies+china_companies\n",
    "\n",
    "\n",
    "\n",
    "\n"
   ]
  },
  {
   "cell_type": "code",
   "execution_count": 19,
   "metadata": {},
   "outputs": [
    {
     "data": {
      "text/plain": [
       "30"
      ]
     },
     "execution_count": 19,
     "metadata": {},
     "output_type": "execute_result"
    }
   ],
   "source": [
    "len(movements)\n"
   ]
  },
  {
   "cell_type": "code",
   "execution_count": 16,
   "metadata": {},
   "outputs": [
    {
     "ename": "AttributeError",
     "evalue": "'numpy.ndarray' object has no attribute 'extend'",
     "output_type": "error",
     "traceback": [
      "\u001b[0;31m---------------------------------------------------------------------------\u001b[0m",
      "\u001b[0;31mAttributeError\u001b[0m                            Traceback (most recent call last)",
      "\u001b[0;32m<ipython-input-16-01a70a9b44c9>\u001b[0m in \u001b[0;36m<module>\u001b[0;34m\u001b[0m\n\u001b[0;32m----> 1\u001b[0;31m \u001b[0mus_movements\u001b[0m\u001b[0;34m.\u001b[0m\u001b[0mextend\u001b[0m\u001b[0;34m(\u001b[0m\u001b[0mchina_movements\u001b[0m\u001b[0;34m)\u001b[0m\u001b[0;34m\u001b[0m\u001b[0;34m\u001b[0m\u001b[0m\n\u001b[0m",
      "\u001b[0;31mAttributeError\u001b[0m: 'numpy.ndarray' object has no attribute 'extend'"
     ]
    }
   ],
   "source": [
    "us_movements.extend(china_movements)"
   ]
  },
  {
   "cell_type": "code",
   "execution_count": 10,
   "metadata": {},
   "outputs": [
    {
     "data": {
      "text/plain": [
       "array([[-4.25000000e+00, -1.21002197e+00,  1.89000244e+01, ...,\n",
       "         1.50000000e+00,  1.05000000e+01, -3.50000000e+00],\n",
       "       [ 3.49998474e-01,  1.69998169e-01,  6.90002441e-01, ...,\n",
       "         0.00000000e+00,  3.50002289e-01,  9.99984741e-02],\n",
       "       [-5.09994507e-01, -3.69995117e-01, -7.59994507e-01, ...,\n",
       "        -1.00002289e-02, -3.99999619e-02, -1.00002289e-02],\n",
       "       ...,\n",
       "       [ 3.19992065e-01, -4.40002441e-01,  4.29992676e-01, ...,\n",
       "         0.00000000e+00,  9.99999046e-03, -9.99999046e-03],\n",
       "       [ 7.39997864e-01,  7.09999084e-01,  7.50000000e-01, ...,\n",
       "         1.00000000e+00,  9.00000000e+00, -1.00000000e+00],\n",
       "       [ 6.20002747e-01, -2.99987793e-02, -1.39999390e-01, ...,\n",
       "         1.00000000e+00,  3.39999390e+00, -7.99987793e-01]])"
      ]
     },
     "execution_count": 10,
     "metadata": {},
     "output_type": "execute_result"
    }
   ],
   "source": [
    "movements"
   ]
  },
  {
   "cell_type": "code",
   "execution_count": 11,
   "metadata": {},
   "outputs": [
    {
     "data": {
      "text/plain": [
       "30"
      ]
     },
     "execution_count": 11,
     "metadata": {},
     "output_type": "execute_result"
    }
   ],
   "source": [
    "len(us_movements)+len(china_movements)"
   ]
  },
  {
   "cell_type": "code",
   "execution_count": null,
   "metadata": {},
   "outputs": [],
   "source": []
  }
 ],
 "metadata": {
  "kernelspec": {
   "display_name": "Python 3",
   "language": "python",
   "name": "python3"
  },
  "language_info": {
   "codemirror_mode": {
    "name": "ipython",
    "version": 3
   },
   "file_extension": ".py",
   "mimetype": "text/x-python",
   "name": "python",
   "nbconvert_exporter": "python",
   "pygments_lexer": "ipython3",
   "version": "3.7.7"
  }
 },
 "nbformat": 4,
 "nbformat_minor": 4
}
